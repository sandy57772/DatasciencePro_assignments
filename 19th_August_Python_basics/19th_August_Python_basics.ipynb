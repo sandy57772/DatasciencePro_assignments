{
 "cells": [
  {
   "cell_type": "markdown",
   "id": "fff9d82d-e301-493a-a6c6-8d86aa1981d8",
   "metadata": {},
   "source": [
    "### TOPIC: Python Basics Variable"
   ]
  },
  {
   "cell_type": "markdown",
   "id": "4f7be322-8f44-4efb-b9cb-0194bad03599",
   "metadata": {},
   "source": [
    "1 . Declare two variables, `x` and `y`, and assign them integer values. Swap the\n",
    "values of these variables without using any temporary variable."
   ]
  },
  {
   "cell_type": "code",
   "execution_count": 7,
   "id": "11fec7e3-c726-4779-8119-7f3a6f75f413",
   "metadata": {},
   "outputs": [
    {
     "name": "stdout",
     "output_type": "stream",
     "text": [
      "The value of x is  12 \n",
      "The value of y is  10\n"
     ]
    }
   ],
   "source": [
    "x =10\n",
    "y = 12\n",
    "x,y = y,x\n",
    "print(\"The value of x is \", x, \"\\nThe value of y is \", y)"
   ]
  },
  {
   "cell_type": "markdown",
   "id": "2264d2e8-9a96-40da-9ae4-8ee29815ecf0",
   "metadata": {},
   "source": [
    "2. Create a program that calculates the area of a rectangle. Take the length and\n",
    "width as inputs from the user and store them in variables. Calculate and\n",
    "display the area."
   ]
  },
  {
   "cell_type": "code",
   "execution_count": 10,
   "id": "3fc79769-d411-4e35-9647-413fa5b9fc63",
   "metadata": {},
   "outputs": [
    {
     "name": "stdin",
     "output_type": "stream",
     "text": [
      "Enter the length 10\n",
      "Enter the width 20\n"
     ]
    },
    {
     "name": "stdout",
     "output_type": "stream",
     "text": [
      "The area of the rectangle with length 10cm and width 20cm is 200cm\n"
     ]
    }
   ],
   "source": [
    "Length = int(input(\"Enter the length\"))\n",
    "width = int(input(\"Enter the width\"))\n",
    "Area = Length * width\n",
    "print(\"The area of the rectangle with length {}cm and width {}cm is {}cm\".format(Length, width, Area))"
   ]
  },
  {
   "cell_type": "markdown",
   "id": "775f8527-af1d-485b-b07e-053dee604776",
   "metadata": {},
   "source": [
    "3. Write a Python program that converts temperatures from Celsius to\n",
    "Fahrenheit. Take the temperature in Celsius as input, store it in a variable,\n",
    "convert it to Fahrenheit, and display the result."
   ]
  },
  {
   "cell_type": "code",
   "execution_count": 13,
   "id": "e8a7a1cb-8a1a-49a6-855f-213c13600f9a",
   "metadata": {},
   "outputs": [
    {
     "name": "stdin",
     "output_type": "stream",
     "text": [
      "Enter the temperature in celsius =  40\n"
     ]
    },
    {
     "name": "stdout",
     "output_type": "stream",
     "text": [
      "After coverting the temperatue in Celsius to Fahrenheit = 104.0\n"
     ]
    }
   ],
   "source": [
    "Temp = int(input(\"Enter the temperature in celsius = \"))\n",
    "Temp_Fahrenheit = ((9/5)*Temp) + 32\n",
    "print(\"After coverting the temperatue in Celsius to Fahrenheit =\", Temp_Fahrenheit)\n"
   ]
  },
  {
   "cell_type": "markdown",
   "id": "643c7440-91f0-455b-9f51-8f81d3ed4d5d",
   "metadata": {},
   "source": [
    "### TOPIC: String Based Questions"
   ]
  },
  {
   "cell_type": "markdown",
   "id": "74b5f618-f3ae-4ce0-906d-b5002bfc080d",
   "metadata": {},
   "source": [
    "1. Write a Python program that takes a string as input and prints the length of\n",
    "the string."
   ]
  },
  {
   "cell_type": "markdown",
   "id": "bcda834a-163f-4579-b135-96dd4c5cc0cd",
   "metadata": {},
   "source": [
    "name = input(\"Enter a string\")\n",
    "print(\"The length of the string entered - {} is {}\".format(name,len(name))) "
   ]
  },
  {
   "cell_type": "markdown",
   "id": "0ebbedab-5345-4e6f-b4a8-6d87438677fd",
   "metadata": {},
   "source": [
    "2. Create a program that takes a sentence from the user and counts the number\n",
    "of vowels (a, e, i, o, u) in the string."
   ]
  },
  {
   "cell_type": "code",
   "execution_count": 23,
   "id": "bc29ad6c-1970-4829-bb1f-b2281c3be602",
   "metadata": {},
   "outputs": [
    {
     "name": "stdin",
     "output_type": "stream",
     "text": [
      "Enter a sentence Im an AI engineer\n"
     ]
    },
    {
     "name": "stdout",
     "output_type": "stream",
     "text": [
      "The number of vowels in the sentence Im an AI engineer is 8\n"
     ]
    }
   ],
   "source": [
    "sent = input(\"Enter a sentence\")\n",
    "vowels = \"aeiouAEIOU\"\n",
    "vowel_count = 0\n",
    "for i in sent:\n",
    "    if i in vowels:\n",
    "        vowel_count = vowel_count+1\n",
    "print(\"The number of vowels in the sentence {} is {}\".format(sent,vowel_count))"
   ]
  },
  {
   "cell_type": "markdown",
   "id": "5c44ce15-4148-447d-b017-15bb10e03365",
   "metadata": {},
   "source": [
    "3. Given a string, reverse the order of characters using string slicing and print\n",
    "the reversed string."
   ]
  },
  {
   "cell_type": "code",
   "execution_count": 24,
   "id": "3aa075a9-43ab-41bc-9e0d-3fad54b0df47",
   "metadata": {},
   "outputs": [
    {
     "name": "stdout",
     "output_type": "stream",
     "text": [
      "The reversed string is  ramukhsohtnaS\n"
     ]
    }
   ],
   "source": [
    "given_string = \"Santhoshkumar\"\n",
    "reversed_string = given_string[::-1]\n",
    "print(\"The reversed string is \", reversed_string)"
   ]
  },
  {
   "cell_type": "markdown",
   "id": "db248eda-75f2-477d-b73e-b5e33b49e501",
   "metadata": {},
   "source": [
    "4. Write a program that takes a string as input and checks if it is a palindrome\n",
    "(reads the same forwards and backwards)."
   ]
  },
  {
   "cell_type": "code",
   "execution_count": 29,
   "id": "1b0b70e2-233a-4b99-a02d-5d2a0a1e362f",
   "metadata": {},
   "outputs": [
    {
     "name": "stdin",
     "output_type": "stream",
     "text": [
      "Enter a string malayalam\n"
     ]
    },
    {
     "name": "stdout",
     "output_type": "stream",
     "text": [
      "The provide string is palindrome\n"
     ]
    }
   ],
   "source": [
    "input_string = input(\"Enter a string\")\n",
    "if input_string[::] == input_string[::-1]:\n",
    "    if input_string[::-1] == input_string[::] :\n",
    "        print(\"The provide string is palindrome\")\n",
    "else :\n",
    "    print(\"The provide string is not a palindrome\")"
   ]
  },
  {
   "cell_type": "markdown",
   "id": "78e9b32d-df3a-47ba-b8e7-f98f27ed3a6a",
   "metadata": {},
   "source": [
    "Create a program that takes a string as input and removes all the spaces from\n",
    "it. Print the modified string without spaces."
   ]
  },
  {
   "cell_type": "code",
   "execution_count": 32,
   "id": "b46912fc-db6d-43f1-af82-9af1737748d1",
   "metadata": {},
   "outputs": [
    {
     "name": "stdin",
     "output_type": "stream",
     "text": [
      "Enter a string with spaces Santhosh is amazing AI Engineer\n"
     ]
    },
    {
     "name": "stdout",
     "output_type": "stream",
     "text": [
      "The modified string is  SanthoshisamazingAIEngineer\n"
     ]
    }
   ],
   "source": [
    "input_str = input(\"Enter a string with spaces\")\n",
    "modified_string = \"\"\n",
    "for i in input_str:\n",
    "    if i != \" \":\n",
    "        modified_string += i\n",
    "print(\"The modified string is \",modified_string)"
   ]
  },
  {
   "cell_type": "code",
   "execution_count": null,
   "id": "6499790d-468f-4895-9fdd-520b2a5986b7",
   "metadata": {},
   "outputs": [],
   "source": []
  }
 ],
 "metadata": {
  "kernelspec": {
   "display_name": "Python 3 (ipykernel)",
   "language": "python",
   "name": "python3"
  },
  "language_info": {
   "codemirror_mode": {
    "name": "ipython",
    "version": 3
   },
   "file_extension": ".py",
   "mimetype": "text/x-python",
   "name": "python",
   "nbconvert_exporter": "python",
   "pygments_lexer": "ipython3",
   "version": "3.10.8"
  }
 },
 "nbformat": 4,
 "nbformat_minor": 5
}
